{
 "cells": [
  {
   "cell_type": "code",
   "execution_count": 12,
   "id": "2182f8d6",
   "metadata": {},
   "outputs": [
    {
     "name": "stdout",
     "output_type": "stream",
     "text": [
      "nu = 4\n",
      "crit = 2.7764\n"
     ]
    }
   ],
   "source": [
    "pkg load statistics\n",
    "\n",
    "conf = 0.95;\n",
    "p=conf+(1-conf)/2;\n",
    "nu=4\n",
    "\n",
    "crit = tinv(p, nu)"
   ]
  },
  {
   "cell_type": "code",
   "execution_count": null,
   "id": "8edb628e",
   "metadata": {},
   "outputs": [],
   "source": []
  }
 ],
 "metadata": {
  "kernelspec": {
   "display_name": "Octave",
   "language": "octave",
   "name": "octave"
  },
  "language_info": {
   "file_extension": ".m",
   "help_links": [
    {
     "text": "GNU Octave",
     "url": "https://www.gnu.org/software/octave/support.html"
    },
    {
     "text": "Octave Kernel",
     "url": "https://github.com/Calysto/octave_kernel"
    },
    {
     "text": "MetaKernel Magics",
     "url": "https://metakernel.readthedocs.io/en/latest/source/README.html"
    }
   ],
   "mimetype": "text/x-octave",
   "name": "octave",
   "version": "6.4.0"
  }
 },
 "nbformat": 4,
 "nbformat_minor": 5
}
