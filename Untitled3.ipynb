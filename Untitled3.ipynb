{
 "cells": [
  {
   "cell_type": "markdown",
   "id": "619af40d-ef12-4919-b704-87d669796340",
   "metadata": {},
   "source": [
    "# self directed mfile practice\n",
    "\n",
    "make an mfile for each practice problem below.  I will include a code block that does the same thing here. But don't look at the code block until  you have tried it first on your own.  But if you get stuck the code his here to help you."
   ]
  },
  {
   "cell_type": "markdown",
   "id": "7fc76f99-e4b1-4027-860a-ca697dc6a7c8",
   "metadata": {},
   "source": [
    "# practice 1: graphing\n",
    "\n",
    "let's make four subplots of arbitrary functions.  We will make each plot in a different way."
   ]
  },
  {
   "cell_type": "code",
   "execution_count": null,
   "id": "9007ccc4-183c-402a-af87-5d6de82b3cfe",
   "metadata": {},
   "outputs": [],
   "source": [
    "% first make the function for plotting\n",
    "\n",
    "m=6; b=-5;\n",
    "x=0:0.1:10; y=mx+b;\n",
    "\n",
    "% now make the plots ---------------------------------------\n",
    "\n",
    "subplot(221)\n",
    "\n",
    "plot(x,y,'ko')\n",
    "\n",
    "\n",
    "subplot(222)\n",
    "\n",
    "subplot(223)\n",
    "\n",
    "subplot(224)"
   ]
  }
 ],
 "metadata": {
  "kernelspec": {
   "display_name": "Octave",
   "language": "octave",
   "name": "octave"
  },
  "language_info": {
   "file_extension": ".m",
   "help_links": [
    {
     "text": "GNU Octave",
     "url": "https://www.gnu.org/software/octave/support.html"
    },
    {
     "text": "Octave Kernel",
     "url": "https://github.com/Calysto/octave_kernel"
    },
    {
     "text": "MetaKernel Magics",
     "url": "https://metakernel.readthedocs.io/en/latest/source/README.html"
    }
   ],
   "mimetype": "text/x-octave",
   "name": "octave",
   "version": "6.4.0"
  }
 },
 "nbformat": 4,
 "nbformat_minor": 5
}
